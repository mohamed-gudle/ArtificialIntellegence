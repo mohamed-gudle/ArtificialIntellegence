{
  "nbformat": 4,
  "nbformat_minor": 0,
  "metadata": {
    "colab": {
      "name": "ANN.ipynb",
      "provenance": [],
      "authorship_tag": "ABX9TyP9zcQpGC8L2TUEx493gMaT"
    },
    "kernelspec": {
      "name": "python3",
      "display_name": "Python 3"
    },
    "language_info": {
      "name": "python"
    }
  },
  "cells": [
    {
      "cell_type": "code",
      "metadata": {
        "colab": {
          "base_uri": "https://localhost:8080/"
        },
        "id": "D-KP5m3qGskI",
        "outputId": "1c67cbde-3258-4eb3-eddc-d2dda58d41b0"
      },
      "source": [
        "import pandas as pd \n",
        "import numpy as np\n",
        "from numpy import array\n",
        "from sklearn.preprocessing import Normalizer\n",
        "from keras.activations import sigmoid\n",
        "from keras.metrics import accuracy\n",
        "from keras.losses import mse\n",
        "from numpy.random import uniform\n",
        "\n",
        "data={'Day 1':[30,40,50,20,15,60],'Day 2':[40,50,20,15,60,70],\n",
        " 'Day 3':[50,20,15,60,70,50],'Target':[20,15,60,70,50,40]}\n",
        "dataset=pd.DataFrame(data)\n",
        "X=dataset.drop('Target',axis=1)\n",
        "y=dataset['Target']\n",
        "X_norm = Normalizer(norm='max').fit_transform(X)\n",
        "print(X_norm)\n",
        "X_norm1=X_norm[0:4]\n",
        "array(y)\n",
        "\n",
        "y_norm=Normalizer(norm='max').fit_transform(np.reshape(array(y),(1,-1)))\n",
        "y_norm=np.transpose(y_norm)\n",
        "print('ynorm {}'.format(y_norm[0][0:4]))\n",
        "y_norm1=y_norm[0][0:4]\n",
        "\n",
        "weight_1=uniform(-1,1,(3,2)) #shape 3 by 2\n",
        "weight_2=uniform(-1,1,(2,1))\n",
        "print(y_norm1)\n",
        "y_true=y_norm1\n",
        "#y_pred=pred_output\n",
        "\n",
        "\n",
        "results = pd.DataFrame(columns=[\"mse\"])\n",
        "\n",
        "\n",
        "iterations=100\n",
        "for itr in range(iterations):    \n",
        "    \n",
        "    # feedforward propagation\n",
        "    # on hidden layer\n",
        "    Z1 = np.dot(X_norm1, weight_1)\n",
        "    A1 = sigmoid(Z1)\n",
        "    #print(\"A1 {}\".format(A1))\n",
        "\n",
        "    # on output layer\n",
        "    Z2 = np.dot(A1, weight_2)\n",
        "    A2 = sigmoid(Z2)\n",
        "   # print('A2 {}'.format(A2))\n",
        "    \n",
        "    \n",
        "    # Calculating error\n",
        "    mse_re= mse(A2, y_true)\n",
        "   # acc = accuracy(A2, np.reshape(y_true,(-1,1)))\n",
        "    results=results.append({\"mse\":mse_re},ignore_index=True )\n",
        "    \n",
        "    # backpropagation\n",
        "    #𝑬𝒓𝒓𝒐𝒓 𝒌 = 𝒚-hat(𝒚) ∗ hat(𝒚)(𝟏-hat(y))\n",
        "   # print('A2 {}'.format(A2))\n",
        "    #print('A1 {}'.format(A1))\n",
        "    #print('y_true {}'.format(y_true))\n",
        "    E1 = A2 - y_true\n",
        "   # print('E1 {}'.format(E1))\n",
        "    dW1 = E1 * A2 * (1 - A2)\n",
        "   # print('dw1 {}'.format(dW1))\n",
        "   # print('weight_2 {}'.format(weight_2))\n",
        "\n",
        "  #  print(\"weight_2 repeated : {}\".format(np.repeat(weight_2, repeats=2, axis=0)))\n",
        "    E2 = np.dot(dW1, np.transpose(weight_2))\n",
        "    \n",
        "   # print('E2 {}'.format(E2))\n",
        "    dW2 = E2 * A1 * (1 - A1)\n",
        "\n",
        "    \n",
        "    # weight updates\n",
        "                          \n",
        "    W2_update = np.dot(np.transpose(A1), dW1) / y_true\n",
        "    W1_update = np.dot(np.transpose(X_norm1), dW2) / y_true\n",
        "\n",
        "    learning_rate=0.3\n",
        "    #                                 change\n",
        "    #current_weight=current_weight+(learning_rate*ErroratK*output)\n",
        "    #                                                                 \n",
        "    weight_2 = weight_2 + learning_rate * W2_update\n",
        "    weight_1 = weight_1 + learning_rate * W1_update"
      ],
      "execution_count": 68,
      "outputs": [
        {
          "output_type": "stream",
          "name": "stdout",
          "text": [
            "[[0.6        0.8        1.        ]\n",
            " [0.8        1.         0.4       ]\n",
            " [1.         0.4        0.3       ]\n",
            " [0.33333333 0.25       1.        ]\n",
            " [0.21428571 0.85714286 1.        ]\n",
            " [0.85714286 1.         0.71428571]]\n",
            "ynorm [0.28571429]\n",
            "[0.28571429]\n"
          ]
        }
      ]
    },
    {
      "cell_type": "code",
      "metadata": {
        "colab": {
          "base_uri": "https://localhost:8080/"
        },
        "id": "5h3KiQpQHUP6",
        "outputId": "6e069eeb-94f1-408f-ba6b-59c244dbec0b"
      },
      "source": [
        "\n",
        "output_2=X_norm[5]@weight_1\n",
        "#print('5th {}'.format(X_norm[5]))\n",
        "\n",
        "act_output1=sigmoid(output_2).numpy()\n",
        "\n",
        "pred_output1=act_output1@weight_2\n",
        "\n",
        "print('predicted result {}'.format(sigmoid(pred_output1)))\n",
        "print(\"actual result : {}\".format(y_norm[5]))\n",
        "#print(pred_output1)"
      ],
      "execution_count": 67,
      "outputs": [
        {
          "output_type": "stream",
          "name": "stdout",
          "text": [
            "predicted result [0.99865419]\n",
            "actual result : [0.57142857]\n"
          ]
        }
      ]
    }
  ]
}