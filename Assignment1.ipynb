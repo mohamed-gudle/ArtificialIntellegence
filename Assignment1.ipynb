{
  "nbformat": 4,
  "nbformat_minor": 0,
  "metadata": {
    "colab": {
      "name": "question1.ipynb",
      "provenance": [],
      "collapsed_sections": [],
      "include_colab_link": true
    },
    "kernelspec": {
      "name": "python3",
      "display_name": "Python 3"
    },
    "language_info": {
      "name": "python"
    }
  },
  "cells": [
    {
      "cell_type": "markdown",
      "metadata": {
        "id": "view-in-github",
        "colab_type": "text"
      },
      "source": [
        "<a href=\"https://colab.research.google.com/github/mohamed-gudle/ArtificialIntellegence/blob/main/Assignment1.ipynb\" target=\"_parent\"><img src=\"https://colab.research.google.com/assets/colab-badge.svg\" alt=\"Open In Colab\"/></a>"
      ]
    },
    {
      "cell_type": "code",
      "metadata": {
        "colab": {
          "base_uri": "https://localhost:8080/"
        },
        "id": "8TmYXvy2mxOy",
        "outputId": "af2710c7-59c0-45c0-8996-f1addc5845f7"
      },
      "source": [
        "try:\n",
        "    import queue\n",
        "except ImportError:\n",
        "    import Queue as queue\n",
        "\n",
        "from queue import PriorityQueue\n",
        "\n",
        "\n",
        "graph = {\n",
        "    'Sports Complex': {'Siwaka':450},\n",
        "    'Siwaka': {'Ph.1A':10,'Ph.1B':230,'Sports Complex':450},\n",
        "    'Ph.1A': {'Ph.1B':100,'Mada':850,'Siwaka':10},\n",
        "    'Ph.1B': {'Phase2':112,'STC':50,'Siwaka':230},\n",
        "    'STC': {'Parking lot':250,'Ph.1B':50},\n",
        "    'Phase2':{'J1':600,'Phase3':500,'Ph.1B':112},\n",
        "    'J1':{'Mada':200,'Phase2':600},\n",
        "    'Mada':{'Parking lot':700,'J1':200,'Ph1.A':850},\n",
        "    'Phase3':{'Parking lot':350,'Phase2':500},\n",
        "    'Parking lot':{'Phase3':350,'STC':250,'Mada':700},\n",
        "    \n",
        "}\n",
        "\n",
        "heuristic = {'Sports Complex':730,'Siwaka':405,'Ph.1A':380,'Ph.1B':280,'STC':213,'Phase2':210,'J1':500,'Phase3':160,'Mada':630,'Parking lot':0}\n",
        "\n",
        "def Greedy(graph, start, goal):\n",
        "    visited = set()\n",
        "    expanded=[]\n",
        "    queue = PriorityQueue()\n",
        "    queue.put((0, start))\n",
        "\n",
        "\n",
        "\n",
        "    while queue:\n",
        "        cost, node = queue.get()\n",
        "        current=node\n",
        "        print(\" current : {}\".format(current))\n",
        "        if current not in visited:\n",
        "            visited.add(current)\n",
        "            expanded.append(current)\n",
        "\n",
        "            if current == goal:\n",
        "                return node, expanded\n",
        "\n",
        "            neighbours = graph[current]\n",
        "            print(neighbours)\n",
        "            for i in neighbours:\n",
        "                if i not in visited:\n",
        "                    total_cost = heuristic[i]\n",
        "                    queue.put((total_cost, i))\n",
        "\n",
        "\n",
        "\n",
        "\n",
        "\n",
        "\n",
        "path, expanded = Greedy(graph,'Sports Complex','Parking lot')\n",
        "output = [char for char in path]\n",
        "print(\"\\nThe optimal path using a greedy search is : \" + \"->\".join(output))\n",
        "print(\"The states expanded are:\")\n",
        "print(expanded)\n",
        "\n"
      ],
      "execution_count": null,
      "outputs": [
        {
          "output_type": "stream",
          "name": "stdout",
          "text": [
            " current : Sports Complex\n",
            "{'Siwaka': 450}\n",
            " current : Siwaka\n",
            "{'Ph.1A': 10, 'Ph.1B': 230, 'Sports Complex': 450}\n",
            " current : Ph.1B\n",
            "{'Phase2': 112, 'STC': 50, 'Siwaka': 230}\n",
            " current : Phase2\n",
            "{'J1': 600, 'Phase3': 500, 'Ph.1B': 112}\n",
            " current : Phase3\n",
            "{'Parking lot': 350, 'Phase2': 500}\n",
            " current : Parking lot\n",
            "\n",
            "The optimal path using a greedy search is : P->a->r->k->i->n->g-> ->l->o->t\n",
            "The states expanded are:\n",
            "['Sports Complex', 'Siwaka', 'Ph.1B', 'Phase2', 'Phase3', 'Parking lot']\n"
          ]
        }
      ]
    },
    {
      "cell_type": "code",
      "metadata": {
        "colab": {
          "base_uri": "https://localhost:8080/"
        },
        "id": "1zwu3mAfv4nh",
        "outputId": "ebdd7e24-19a9-4063-ef3f-c3f324e51cd7"
      },
      "source": [
        "def UCS(graph, start, goal):\n",
        "    visited = set()\n",
        "    expanded=[]\n",
        "    queue = PriorityQueue()\n",
        "    queue.put((0, start))\n",
        "\n",
        "\n",
        "\n",
        "    while queue:\n",
        "        cost, node = queue.get()\n",
        "        current = node\n",
        "        if current not in visited:\n",
        "            visited.add(current)\n",
        "            expanded.append(current)\n",
        "\n",
        "            if current == goal:\n",
        "                return node, expanded\n",
        "\n",
        "            neighbours = graph[current]\n",
        "            for i in neighbours:\n",
        "                if i not in visited:\n",
        "                    total_cost = cost + neighbours[i]\n",
        "                    queue.put((total_cost,i))\n",
        "\n",
        "pathUCS, expandedUCS = UCS(graph,'Sports Complex','Parking lot')\n",
        "outputUCS = [char for char in path]\n",
        "print(\"\\nThe optimal path using a greedy search is : \" + \"->\".join(output))\n",
        "print(\"The states expanded are:\")\n",
        "print(expandedUCS)"
      ],
      "execution_count": null,
      "outputs": [
        {
          "output_type": "stream",
          "name": "stdout",
          "text": [
            "\n",
            "The optimal path using a greedy search is : P->a->r->k->i->n->g-> ->l->o->t\n",
            "The states expanded are:\n",
            "['Sports Complex', 'Siwaka', 'Ph.1A', 'Ph.1B', 'STC', 'Phase2', 'Parking lot']\n"
          ]
        }
      ]
    },
    {
      "cell_type": "code",
      "metadata": {
        "colab": {
          "base_uri": "https://localhost:8080/",
          "height": 516
        },
        "id": "5kNZgtzdDC1b",
        "outputId": "f2dba096-f7bd-47f3-e2ec-52592ba850fa"
      },
      "source": [
        "import networkx as nx\n",
        "import matplotlib.pyplot as plt\n",
        "\n",
        "\n",
        "G = nx.Graph()\n",
        "nodes=[\"Sports Complex\",\"Siwaka\"]\n",
        "G.add_nodes_from(nodes)\n",
        "G.nodes()#confirm nodes\n",
        "#Add Edges and their weights\n",
        "G.add_edge(\"Sports Complex\",\"Siwaka\",weight=\"450\")\n",
        "G.add_edge(\"Siwaka\",\"Ph.1A\",weight=\"10\")\n",
        "G.add_edge(\"Siwaka\",\"Ph.1B\",weight=\"10\")\n",
        "G.add_edge(\"Ph.1A\",\"Ph.1B\",weight=\"100\")\n",
        "G.add_edge(\"Ph.1B\",\"STC\",weight=\"100\")\n",
        "G.add_edge(\"Ph.1B\",\"Phase2\",weight=\"112\")\n",
        "G.add_edge(\"Phase2\",\"J1\",weight=\"600\")\n",
        "G.add_edge(\"J1\",\"Mada\",weight=\"200\")\n",
        "G.add_edge(\"Phase2\",\"Phase3\",weight=\"500\")\n",
        "G.add_edge(\"Phase3\",\"Parking lot\",weight=\"350\")\n",
        "G.add_edge(\"STC\",\"Parking lot\",weight=\"250\")\n",
        "G.add_edge(\"Phase2\",\"STC\",weight=\"50\")\n",
        "\n",
        "#position the nodes to resemble Nairobis map\n",
        "G.nodes[\"Sports Complex\"]['pos']=(1,7)\n",
        "G.nodes[\"Siwaka\"]['pos']=(3,7)\n",
        "G.nodes[\"Ph.1A\"]['pos']=(5,7)\n",
        "G.nodes[\"Ph.1B\"]['pos']=(5,5)\n",
        "G.nodes[\"STC\"]['pos']=(5,3)\n",
        "G.nodes[\"Phase2\"]['pos']=(7,5)\n",
        "G.nodes[\"J1\"]['pos']=(9,5)\n",
        "G.nodes[\"Mada\"]['pos']=(11,5)\n",
        "G.nodes[\"Phase3\"]['pos']=(7,3)\n",
        "G.nodes[\"Parking lot\"]['pos']=(7,1)\n",
        "\n",
        "\n",
        "#store all positions in a variable\n",
        "node_pos = nx.get_node_attributes(G,'pos')\n",
        "#call BFS to return set of all possible routes to the goal\n",
        "\n",
        "print(\"route_list : {}\".format(expanded))\n",
        "route_list = expanded\n",
        "#color the nodes in the route_bfs\n",
        "node_col = ['darkturquoise' if not node in route_list else 'peru' for node in G.nodes()]\n",
        "peru_colored_edges = list(zip(route_list,route_list[1:]))\n",
        "#color the edges as well\n",
        "#print(peru_colored_edges)\n",
        "edge_col = ['darkturquoise' if not edge in peru_colored_edges else 'peru' for edge in G.edges()]\n",
        "arc_weight=nx.get_edge_attributes(G,'weight')\n",
        "nx.draw_networkx(G, node_pos,node_color= node_col, node_size=450)\n",
        "nx.draw_networkx_edges(G, node_pos,width=2,edge_color= edge_col)\n",
        "#nx.draw_networkx_edge_labels(G, node_pos,edge_color= edge_col, edge_labels=arc_weight)\n",
        "\n",
        "\n",
        "nx.draw_networkx_edge_labels(G, node_pos, edge_labels=arc_weight)\n",
        "plt.axis('off')\n",
        "plt.show()\n",
        "\n",
        "\n",
        "\n",
        "\n",
        "print(\"route_list for UCS : {}\".format(expanded))\n",
        "route_list = expandedUCS\n",
        "#color the nodes in the route_bfs\n",
        "node_col = ['green' if not node in route_list else 'blue' for node in G.nodes()]\n",
        "peru_colored_edges = list(zip(route_list,route_list[1:]))\n",
        "#color the edges as well\n",
        "#print(peru_colored_edges)\n",
        "edge_col = ['green' if not edge in peru_colored_edges else 'blue' for edge in G.edges()]\n",
        "arc_weight=nx.get_edge_attributes(G,'weight')\n",
        "nx.draw_networkx(G, node_pos,node_color= node_col, node_size=450)\n",
        "nx.draw_networkx_edges(G, node_pos,width=2,edge_color= edge_col)\n",
        "#nx.draw_networkx_edge_labels(G, node_pos,edge_color= edge_col, edge_labels=arc_weight)\n",
        "\n",
        "\n",
        "nx.draw_networkx_edge_labels(G, node_pos, edge_labels=arc_weight)\n",
        "plt.axis('off')\n",
        "plt.show()"
      ],
      "execution_count": null,
      "outputs": [
        {
          "output_type": "stream",
          "name": "stdout",
          "text": [
            "route_list : ['Sports Complex', 'Siwaka', 'Ph.1B', 'Phase2', 'Phase3', 'Parking lot']\n"
          ]
        },
        {
          "output_type": "display_data",
          "data": {
            "image/png": "[encoded data removed]",
            "text/plain": [
              "<Figure size 432x288 with 1 Axes>"
            ]
          },
          "metadata": {}
        },
        {
          "output_type": "stream",
          "name": "stdout",
          "text": [
            "route_list for UCS : ['Sports Complex', 'Siwaka', 'Ph.1B', 'Phase2', 'Phase3', 'Parking lot']\n"
          ]
        },
        {
          "output_type": "display_data",
          "data": {
            "image/png": "[encoded data removed]",
            "text/plain": [
              "<Figure size 432x288 with 1 Axes>"
            ]
          },
          "metadata": {}
        }
      ]
    },
    {
      "cell_type": "code",
      "metadata": {
        "id": "XS-IBLrwVBgq"
      },
      "source": [
        ""
      ],
      "execution_count": null,
      "outputs": []
    }
  ]
}